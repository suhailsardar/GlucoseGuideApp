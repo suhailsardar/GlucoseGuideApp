{
  "nbformat": 4,
  "nbformat_minor": 0,
  "metadata": {
    "colab": {
      "provenance": [],
      "gpuType": "T4",
      "authorship_tag": "ABX9TyNqfmbAJCpN9ZKYK/MSWdYD",
      "include_colab_link": true
    },
    "kernelspec": {
      "name": "python3",
      "display_name": "Python 3"
    },
    "language_info": {
      "name": "python"
    },
    "accelerator": "GPU",
    "widgets": {
      "application/vnd.jupyter.widget-state+json": {
        "5e56223ce8ef4dc8871a21ad8f6304f3": {
          "model_module": "@jupyter-widgets/controls",
          "model_name": "IntTextModel",
          "model_module_version": "1.5.0",
          "state": {
            "_dom_classes": [],
            "_model_module": "@jupyter-widgets/controls",
            "_model_module_version": "1.5.0",
            "_model_name": "IntTextModel",
            "_view_count": null,
            "_view_module": "@jupyter-widgets/controls",
            "_view_module_version": "1.5.0",
            "_view_name": "IntTextView",
            "continuous_update": false,
            "description": "Fasting Sugar (mg/dL):",
            "description_tooltip": null,
            "disabled": false,
            "layout": "IPY_MODEL_16fe4bca579447a5bec98ff22bd0d946",
            "step": 1,
            "style": "IPY_MODEL_4f7ac31faba949c090cd60b84874720d",
            "value": 100
          }
        },
        "16fe4bca579447a5bec98ff22bd0d946": {
          "model_module": "@jupyter-widgets/base",
          "model_name": "LayoutModel",
          "model_module_version": "1.2.0",
          "state": {
            "_model_module": "@jupyter-widgets/base",
            "_model_module_version": "1.2.0",
            "_model_name": "LayoutModel",
            "_view_count": null,
            "_view_module": "@jupyter-widgets/base",
            "_view_module_version": "1.2.0",
            "_view_name": "LayoutView",
            "align_content": null,
            "align_items": null,
            "align_self": null,
            "border": null,
            "bottom": null,
            "display": null,
            "flex": null,
            "flex_flow": null,
            "grid_area": null,
            "grid_auto_columns": null,
            "grid_auto_flow": null,
            "grid_auto_rows": null,
            "grid_column": null,
            "grid_gap": null,
            "grid_row": null,
            "grid_template_areas": null,
            "grid_template_columns": null,
            "grid_template_rows": null,
            "height": null,
            "justify_content": null,
            "justify_items": null,
            "left": null,
            "margin": null,
            "max_height": null,
            "max_width": null,
            "min_height": null,
            "min_width": null,
            "object_fit": null,
            "object_position": null,
            "order": null,
            "overflow": null,
            "overflow_x": null,
            "overflow_y": null,
            "padding": null,
            "right": null,
            "top": null,
            "visibility": null,
            "width": null
          }
        },
        "4f7ac31faba949c090cd60b84874720d": {
          "model_module": "@jupyter-widgets/controls",
          "model_name": "DescriptionStyleModel",
          "model_module_version": "1.5.0",
          "state": {
            "_model_module": "@jupyter-widgets/controls",
            "_model_module_version": "1.5.0",
            "_model_name": "DescriptionStyleModel",
            "_view_count": null,
            "_view_module": "@jupyter-widgets/base",
            "_view_module_version": "1.2.0",
            "_view_name": "StyleView",
            "description_width": ""
          }
        },
        "6458fe538dc14411a81530bcf75c4fdc": {
          "model_module": "@jupyter-widgets/controls",
          "model_name": "IntTextModel",
          "model_module_version": "1.5.0",
          "state": {
            "_dom_classes": [],
            "_model_module": "@jupyter-widgets/controls",
            "_model_module_version": "1.5.0",
            "_model_name": "IntTextModel",
            "_view_count": null,
            "_view_module": "@jupyter-widgets/controls",
            "_view_module_version": "1.5.0",
            "_view_name": "IntTextView",
            "continuous_update": false,
            "description": "Pre-Meal Sugar (mg/dL):",
            "description_tooltip": null,
            "disabled": false,
            "layout": "IPY_MODEL_76273e96a93444a3bdb771df1f2d2652",
            "step": 1,
            "style": "IPY_MODEL_f2e38dddb5d0416ba9ce7067d517fd30",
            "value": 100
          }
        },
        "76273e96a93444a3bdb771df1f2d2652": {
          "model_module": "@jupyter-widgets/base",
          "model_name": "LayoutModel",
          "model_module_version": "1.2.0",
          "state": {
            "_model_module": "@jupyter-widgets/base",
            "_model_module_version": "1.2.0",
            "_model_name": "LayoutModel",
            "_view_count": null,
            "_view_module": "@jupyter-widgets/base",
            "_view_module_version": "1.2.0",
            "_view_name": "LayoutView",
            "align_content": null,
            "align_items": null,
            "align_self": null,
            "border": null,
            "bottom": null,
            "display": null,
            "flex": null,
            "flex_flow": null,
            "grid_area": null,
            "grid_auto_columns": null,
            "grid_auto_flow": null,
            "grid_auto_rows": null,
            "grid_column": null,
            "grid_gap": null,
            "grid_row": null,
            "grid_template_areas": null,
            "grid_template_columns": null,
            "grid_template_rows": null,
            "height": null,
            "justify_content": null,
            "justify_items": null,
            "left": null,
            "margin": null,
            "max_height": null,
            "max_width": null,
            "min_height": null,
            "min_width": null,
            "object_fit": null,
            "object_position": null,
            "order": null,
            "overflow": null,
            "overflow_x": null,
            "overflow_y": null,
            "padding": null,
            "right": null,
            "top": null,
            "visibility": null,
            "width": null
          }
        },
        "f2e38dddb5d0416ba9ce7067d517fd30": {
          "model_module": "@jupyter-widgets/controls",
          "model_name": "DescriptionStyleModel",
          "model_module_version": "1.5.0",
          "state": {
            "_model_module": "@jupyter-widgets/controls",
            "_model_module_version": "1.5.0",
            "_model_name": "DescriptionStyleModel",
            "_view_count": null,
            "_view_module": "@jupyter-widgets/base",
            "_view_module_version": "1.2.0",
            "_view_name": "StyleView",
            "description_width": ""
          }
        },
        "9110eab937bb459e81417919c3d943ef": {
          "model_module": "@jupyter-widgets/controls",
          "model_name": "IntTextModel",
          "model_module_version": "1.5.0",
          "state": {
            "_dom_classes": [],
            "_model_module": "@jupyter-widgets/controls",
            "_model_module_version": "1.5.0",
            "_model_name": "IntTextModel",
            "_view_count": null,
            "_view_module": "@jupyter-widgets/controls",
            "_view_module_version": "1.5.0",
            "_view_name": "IntTextView",
            "continuous_update": false,
            "description": "Post-Meal Sugar (mg/dL):",
            "description_tooltip": null,
            "disabled": false,
            "layout": "IPY_MODEL_d579ebedca5d409baf630349138b6930",
            "step": 1,
            "style": "IPY_MODEL_4095d354c3be424eb2ea99f4ef56c8db",
            "value": 100
          }
        },
        "d579ebedca5d409baf630349138b6930": {
          "model_module": "@jupyter-widgets/base",
          "model_name": "LayoutModel",
          "model_module_version": "1.2.0",
          "state": {
            "_model_module": "@jupyter-widgets/base",
            "_model_module_version": "1.2.0",
            "_model_name": "LayoutModel",
            "_view_count": null,
            "_view_module": "@jupyter-widgets/base",
            "_view_module_version": "1.2.0",
            "_view_name": "LayoutView",
            "align_content": null,
            "align_items": null,
            "align_self": null,
            "border": null,
            "bottom": null,
            "display": null,
            "flex": null,
            "flex_flow": null,
            "grid_area": null,
            "grid_auto_columns": null,
            "grid_auto_flow": null,
            "grid_auto_rows": null,
            "grid_column": null,
            "grid_gap": null,
            "grid_row": null,
            "grid_template_areas": null,
            "grid_template_columns": null,
            "grid_template_rows": null,
            "height": null,
            "justify_content": null,
            "justify_items": null,
            "left": null,
            "margin": null,
            "max_height": null,
            "max_width": null,
            "min_height": null,
            "min_width": null,
            "object_fit": null,
            "object_position": null,
            "order": null,
            "overflow": null,
            "overflow_x": null,
            "overflow_y": null,
            "padding": null,
            "right": null,
            "top": null,
            "visibility": null,
            "width": null
          }
        },
        "4095d354c3be424eb2ea99f4ef56c8db": {
          "model_module": "@jupyter-widgets/controls",
          "model_name": "DescriptionStyleModel",
          "model_module_version": "1.5.0",
          "state": {
            "_model_module": "@jupyter-widgets/controls",
            "_model_module_version": "1.5.0",
            "_model_name": "DescriptionStyleModel",
            "_view_count": null,
            "_view_module": "@jupyter-widgets/base",
            "_view_module_version": "1.2.0",
            "_view_name": "StyleView",
            "description_width": ""
          }
        },
        "fc5bb7063a4b4f29ad5266168a205da9": {
          "model_module": "@jupyter-widgets/controls",
          "model_name": "TextModel",
          "model_module_version": "1.5.0",
          "state": {
            "_dom_classes": [],
            "_model_module": "@jupyter-widgets/controls",
            "_model_module_version": "1.5.0",
            "_model_name": "TextModel",
            "_view_count": null,
            "_view_module": "@jupyter-widgets/controls",
            "_view_module_version": "1.5.0",
            "_view_name": "TextView",
            "continuous_update": true,
            "description": "Dietary Preferences:",
            "description_tooltip": null,
            "disabled": false,
            "layout": "IPY_MODEL_c482c64da0904793880306ee46c424ee",
            "placeholder": "​",
            "style": "IPY_MODEL_da518b41a53a419686e5ce63403f595a",
            "value": "vegetarian"
          }
        },
        "c482c64da0904793880306ee46c424ee": {
          "model_module": "@jupyter-widgets/base",
          "model_name": "LayoutModel",
          "model_module_version": "1.2.0",
          "state": {
            "_model_module": "@jupyter-widgets/base",
            "_model_module_version": "1.2.0",
            "_model_name": "LayoutModel",
            "_view_count": null,
            "_view_module": "@jupyter-widgets/base",
            "_view_module_version": "1.2.0",
            "_view_name": "LayoutView",
            "align_content": null,
            "align_items": null,
            "align_self": null,
            "border": null,
            "bottom": null,
            "display": null,
            "flex": null,
            "flex_flow": null,
            "grid_area": null,
            "grid_auto_columns": null,
            "grid_auto_flow": null,
            "grid_auto_rows": null,
            "grid_column": null,
            "grid_gap": null,
            "grid_row": null,
            "grid_template_areas": null,
            "grid_template_columns": null,
            "grid_template_rows": null,
            "height": null,
            "justify_content": null,
            "justify_items": null,
            "left": null,
            "margin": null,
            "max_height": null,
            "max_width": null,
            "min_height": null,
            "min_width": null,
            "object_fit": null,
            "object_position": null,
            "order": null,
            "overflow": null,
            "overflow_x": null,
            "overflow_y": null,
            "padding": null,
            "right": null,
            "top": null,
            "visibility": null,
            "width": null
          }
        },
        "da518b41a53a419686e5ce63403f595a": {
          "model_module": "@jupyter-widgets/controls",
          "model_name": "DescriptionStyleModel",
          "model_module_version": "1.5.0",
          "state": {
            "_model_module": "@jupyter-widgets/controls",
            "_model_module_version": "1.5.0",
            "_model_name": "DescriptionStyleModel",
            "_view_count": null,
            "_view_module": "@jupyter-widgets/base",
            "_view_module_version": "1.2.0",
            "_view_name": "StyleView",
            "description_width": ""
          }
        }
      }
    }
  },
  "cells": [
    {
      "cell_type": "markdown",
      "metadata": {
        "id": "view-in-github",
        "colab_type": "text"
      },
      "source": [
        "<a href=\"https://colab.research.google.com/github/suhailsardar/GlucoseGuideApp/blob/main/GlucoseGuide.ipynb\" target=\"_parent\"><img src=\"https://colab.research.google.com/assets/colab-badge.svg\" alt=\"Open In Colab\"/></a>"
      ]
    },
    {
      "cell_type": "code",
      "execution_count": null,
      "metadata": {
        "collapsed": true,
        "id": "ecWVuoBn0L7L"
      },
      "outputs": [],
      "source": [
        "!pip install streamlit\n",
        "!pip install anthropic\n",
        "!pip install ipywidgets\n"
      ]
    },
    {
      "cell_type": "code",
      "source": [
        "import anthropic\n",
        "import ipywidgets as widgets\n",
        "from IPython.display import display, Markdown"
      ],
      "metadata": {
        "id": "oKMm9CREYUvQ"
      },
      "execution_count": 9,
      "outputs": []
    },
    {
      "cell_type": "code",
      "source": [
        "# Initialize API key\n",
        "api_key = \"CLAUDE_API_KEY\"  # Replace with your actual API key\n",
        "\n",
        "# Function to call Claude AI API and get a personalized meal plan\n",
        "def get_meal_plan(api_key, fasting_sugar, pre_meal_sugar, post_meal_sugar, dietary_preferences):\n",
        "    # Initialize the Claude AI client with the provided API key\n",
        "    client = anthropic.Anthropic(api_key=api_key)\n",
        "\n",
        "    # Define the prompt to send to Claude AI\n",
        "    prompt = (\n",
        "        f\"My fasting sugar level is {fasting_sugar} mg/dL, \"\n",
        "        f\"my pre-meal sugar level is {pre_meal_sugar} mg/dL, \"\n",
        "        f\"and my post-meal sugar level is {post_meal_sugar} mg/dL. \"\n",
        "        f\"My dietary preferences are {dietary_preferences}. \"\n",
        "        \"Please provide a personalized meal plan that can help me manage my blood sugar levels effectively.\"\n",
        "    )\n",
        "\n",
        "    # Call Claude AI API\n",
        "    message = client.messages.create(\n",
        "        model=\"claude-3-5-sonnet-20240620\",\n",
        "        max_tokens=250,\n",
        "        temperature=0.7,\n",
        "        system=\"You are a world-class nutritionist who specializes in diabetes management.\",\n",
        "        messages=[\n",
        "            {\n",
        "                \"role\": \"user\",\n",
        "                \"content\": prompt\n",
        "            }\n",
        "        ]\n",
        "    )\n",
        "\n",
        "    raw_context = message.content\n",
        "    return raw_context\n",
        "\n",
        "# Widgets for user input\n",
        "fasting_sugar = widgets.IntText(value=100, description='Fasting Sugar (mg/dL):')\n",
        "pre_meal_sugar = widgets.IntText(value=100, description='Pre-Meal Sugar (mg/dL):')\n",
        "post_meal_sugar = widgets.IntText(value=100, description='Post-Meal Sugar (mg/dL):')\n",
        "dietary_preferences = widgets.Text(value='vegetarian', description='Dietary Preferences:')\n",
        "\n",
        "# Display widgets\n",
        "display(fasting_sugar, pre_meal_sugar, post_meal_sugar, dietary_preferences)\n",
        "\n",
        "def generate_meal_plan(button):\n",
        "    # Get values from widgets\n",
        "    fs = fasting_sugar.value\n",
        "    pms = pre_meal_sugar.value\n",
        "    pms2 = post_meal_sugar.value\n",
        "    dp = dietary_preferences.value\n",
        "\n",
        "    # Generate meal plan\n",
        "    meal_plan = get_meal_plan(api_key, fs, pms, pms2, dp)\n",
        "\n",
        "    # Display the meal plan\n",
        "    display(Markdown(f\"### Personalized Meal Plan:\\n{meal_plan}\"))\n",
        "\n",
        "# Button to generate meal plan\n",
        "#button = widgets.Button(description=\"Generate Meal Plan\")\n",
        "#button.on_click(generate_meal_plan)\n",
        "#display(button)\n"
      ],
      "metadata": {
        "colab": {
          "base_uri": "https://localhost:8080/",
          "height": 139,
          "referenced_widgets": [
            "5e56223ce8ef4dc8871a21ad8f6304f3",
            "16fe4bca579447a5bec98ff22bd0d946",
            "4f7ac31faba949c090cd60b84874720d",
            "6458fe538dc14411a81530bcf75c4fdc",
            "76273e96a93444a3bdb771df1f2d2652",
            "f2e38dddb5d0416ba9ce7067d517fd30",
            "9110eab937bb459e81417919c3d943ef",
            "d579ebedca5d409baf630349138b6930",
            "4095d354c3be424eb2ea99f4ef56c8db",
            "fc5bb7063a4b4f29ad5266168a205da9",
            "c482c64da0904793880306ee46c424ee",
            "da518b41a53a419686e5ce63403f595a"
          ]
        },
        "id": "uSX3Ze-ib4DB",
        "outputId": "ffef88e7-3b37-4a40-d015-ade434f7860c"
      },
      "execution_count": 12,
      "outputs": [
        {
          "output_type": "display_data",
          "data": {
            "text/plain": [
              "IntText(value=100, description='Fasting Sugar (mg/dL):')"
            ],
            "application/vnd.jupyter.widget-view+json": {
              "version_major": 2,
              "version_minor": 0,
              "model_id": "5e56223ce8ef4dc8871a21ad8f6304f3"
            }
          },
          "metadata": {}
        },
        {
          "output_type": "display_data",
          "data": {
            "text/plain": [
              "IntText(value=100, description='Pre-Meal Sugar (mg/dL):')"
            ],
            "application/vnd.jupyter.widget-view+json": {
              "version_major": 2,
              "version_minor": 0,
              "model_id": "6458fe538dc14411a81530bcf75c4fdc"
            }
          },
          "metadata": {}
        },
        {
          "output_type": "display_data",
          "data": {
            "text/plain": [
              "IntText(value=100, description='Post-Meal Sugar (mg/dL):')"
            ],
            "application/vnd.jupyter.widget-view+json": {
              "version_major": 2,
              "version_minor": 0,
              "model_id": "9110eab937bb459e81417919c3d943ef"
            }
          },
          "metadata": {}
        },
        {
          "output_type": "display_data",
          "data": {
            "text/plain": [
              "Text(value='vegetarian', description='Dietary Preferences:')"
            ],
            "application/vnd.jupyter.widget-view+json": {
              "version_major": 2,
              "version_minor": 0,
              "model_id": "fc5bb7063a4b4f29ad5266168a205da9"
            }
          },
          "metadata": {}
        }
      ]
    }
  ]
}