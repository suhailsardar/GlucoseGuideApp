{
  "nbformat": 4,
  "nbformat_minor": 0,
  "metadata": {
    "colab": {
      "provenance": [],
      "gpuType": "T4",
      "authorship_tag": "ABX9TyMcoypRQHvoeDmV/V1RFlYY",
      "include_colab_link": true
    },
    "kernelspec": {
      "name": "python3",
      "display_name": "Python 3"
    },
    "language_info": {
      "name": "python"
    },
    "accelerator": "GPU"
  },
  "cells": [
    {
      "cell_type": "markdown",
      "metadata": {
        "id": "view-in-github",
        "colab_type": "text"
      },
      "source": [
        "<a href=\"https://colab.research.google.com/github/suhailsardar/GlucoseGuideApp/blob/main/GlucoseGuide.ipynb\" target=\"_parent\"><img src=\"https://colab.research.google.com/assets/colab-badge.svg\" alt=\"Open In Colab\"/></a>"
      ]
    },
    {
      "cell_type": "code",
      "execution_count": null,
      "metadata": {
        "collapsed": true,
        "id": "ecWVuoBn0L7L"
      },
      "outputs": [],
      "source": [
        "!pip install streamlit\n",
        "!pip install anthropic\n",
        "!pip install ipywidgets\n"
      ]
    },
    {
      "cell_type": "code",
      "source": [
        "import anthropic\n",
        "import ipywidgets as widgets\n",
        "from IPython.display import display, Markdown"
      ],
      "metadata": {
        "id": "oKMm9CREYUvQ"
      },
      "execution_count": 9,
      "outputs": []
    }
  ]
}